{
 "cells": [
  {
   "cell_type": "markdown",
   "id": "396eb08a-ef6e-4179-a9d2-7339005d9431",
   "metadata": {},
   "source": [
    "# Fetching Oregon Parcel Data\n",
    "This Notebook demonstrates how to access Web Services employed by the ORMAP web application to retrieve parcel (tax lot) data from Oregon properties. As configured by default, this workflow will employ a multithreaded download to fetch all the parcels in the parcel database in 1000-parcel chunks. "
   ]
  },
  {
   "cell_type": "code",
   "execution_count": null,
   "id": "0477e345-e16d-4685-b259-dadfb8925b24",
   "metadata": {},
   "outputs": [],
   "source": [
    "import os\n",
    "import warnings\n",
    "\n",
    "import numpy as np\n",
    "import pandas as pd\n",
    "import geopandas as gpd\n",
    "from shapely.geometry import box, Polygon\n",
    "\n",
    "import requests\n",
    "\n",
    "from concurrent.futures import ThreadPoolExecutor, as_completed\n",
    "from tqdm.notebook import tqdm"
   ]
  },
  {
   "cell_type": "markdown",
   "id": "43d72e63-cf79-4401-b597-6c983415a2ca",
   "metadata": {},
   "source": [
    "## Workhorse API Call\n",
    "The `parcels_from_ormap` function below is extensible to a variety of other use cases. "
   ]
  },
  {
   "cell_type": "code",
   "execution_count": null,
   "id": "c8b727d4-a291-4edc-ac17-889bf8fcdf24",
   "metadata": {},
   "outputs": [],
   "source": [
    "def parcels_from_ormap(bbox, inSR=4326, features=True, **kwargs):\n",
    "    \"\"\"\n",
    "    Returns tax lot boundaries as features from ORMAP's parcel database.\n",
    "    \n",
    "    Parameters\n",
    "    ----------\n",
    "    bbox : list-like\n",
    "      list of bounding box coordinates (minx, miny, maxx, maxy).\n",
    "    inSR : int\n",
    "      spatial reference for bounding box, such as an EPSG code (e.g., 4326)\n",
    "    features : bool\n",
    "      whether to return features instead of the JSON of the request\n",
    "    \n",
    "    Returns\n",
    "    -------\n",
    "    gdf : GeoDataFrame\n",
    "      features in vector format\n",
    "    jsn : dict\n",
    "      JSON-formatted request, returned when features=False\n",
    "    r : requests.request\n",
    "      a request object, returned if the web request fails\n",
    "    \"\"\"\n",
    "    BASE_URL = ''.join([\n",
    "        'https://utility.arcgis.com/usrsvcs/servers/',\n",
    "        '78bbb0d0d9c64583ad5371729c496dcc/rest/services/',\n",
    "        'Secure/DOR_ORMAP/MapServer/3/query?',\n",
    "    ])\n",
    "\n",
    "    params = dict(f='geojson',\n",
    "                  returnGeometry='true',\n",
    "                  spatialRel='esriSpatialRelIntersects',\n",
    "                  geometry=(f'{{\"xmin\":{bbox[0]},\"ymin\":{bbox[1]},'\n",
    "                            f'\"xmax\":{bbox[2]},\"ymax\":{bbox[3]},'\n",
    "                            f'\"spatialReference\":{{\"wkid\":{inSR}}}}}'),\n",
    "                  geometryType='esriGeometryEnvelope',\n",
    "                  outFields='*',\n",
    "                  outSR=inSR)\n",
    "    for key, value in kwargs.items():\n",
    "        params.update({key: value})\n",
    "\n",
    "    try:\n",
    "        r = requests.get(BASE_URL, params=params, headers={'referer': 'https://ormap.net/'})\n",
    "        jsn = r.json()\n",
    "    \n",
    "        if features:\n",
    "            if len(jsn['features']) == 0:\n",
    "                gdf = gpd.GeoDataFrame(geometry=[Polygon()], crs=inSR)\n",
    "            else:\n",
    "                gdf = gpd.GeoDataFrame.from_features(jsn, crs=inSR).sort_values(by='OBJECTID')\n",
    "                gdf['geometry'] = gdf.buffer(0)\n",
    "\n",
    "            return gdf\n",
    "        else:\n",
    "            return jsn\n",
    "    except:\n",
    "        return r"
   ]
  },
  {
   "cell_type": "markdown",
   "id": "d0674b54-23ee-46f0-8b55-13195ffe6bae",
   "metadata": {},
   "source": [
    "## Oregon is our Area of Interest\n",
    "Here we define a bounding box that should encapsulate the entire State of Oregon. The web request above will only return parcels that intersect the user-specified bounding box. We do not currently want to filter out any of the parcels based on the bounding box, so we use the entire State as our AOI."
   ]
  },
  {
   "cell_type": "code",
   "execution_count": null,
   "id": "66b6d122-5e41-41e1-80a0-3bf60faa06b5",
   "metadata": {},
   "outputs": [],
   "source": [
    "OR_BBOX = [-125.068359,41.656497,-116.147461,46.483265]\n",
    "EPSG = 4326"
   ]
  },
  {
   "cell_type": "markdown",
   "id": "4eec97ad-33c0-4997-9933-1df8e59bf333",
   "metadata": {},
   "source": [
    "By specifying the optional keyword argument `returnIdsOnly=True` and `features=False`, we will receive a JSON response that includes all the object IDs for parcels that are included in the database. We can use this to iterate through subsequent requests, limiting each request to stay within the maximum number of features allowed per request (1,000)."
   ]
  },
  {
   "cell_type": "code",
   "execution_count": null,
   "id": "284e906b-70ab-4446-a959-87f53150ac3a",
   "metadata": {},
   "outputs": [],
   "source": [
    "ids = np.array(parcels_from_ormap(OR_BBOX, inSR=EPSG, returnIdsOnly=True, features=False)['objectIds'])"
   ]
  },
  {
   "cell_type": "markdown",
   "id": "a1a8c256-f20a-4b87-8906-f8332435d2e3",
   "metadata": {},
   "source": [
    "Here we write a simple helper function to fetch parcels starting at ID `start_id` plus the next `step` size number of parcels. We set this up to default to retrieve 1000 parcels at a time. You can modify that path specified in `outfile` below to redirect the saving of the GeoJSON files to wherever you like."
   ]
  },
  {
   "cell_type": "code",
   "execution_count": null,
   "id": "2cfa994d-670c-4251-bdd4-9725c4979dd0",
   "metadata": {},
   "outputs": [],
   "source": [
    "def fetch_save_parcels(start_id, step=1000, overwrite=False, out_dir='.'):\n",
    "    fname = f'parcels_{start_id}-{start_id+step-1}.geojson'\n",
    "    outfile = os.path.join(out_dir, fname)\n",
    "    \n",
    "    if not os.path.exists(outfile) or overwrite:\n",
    "        with warnings.catch_warnings():\n",
    "            warnings.simplefilter(action='ignore', category=FutureWarning)\n",
    "\n",
    "            f = parcels_from_ormap(OR_BBOX, inSR=EPSG, \n",
    "                                   where=f'OBJECTID >= {start_id} AND OBJECTID < {start_id + step}')\n",
    "\n",
    "            f.to_file(outfile, driver='GeoJSON')\n",
    "    return"
   ]
  },
  {
   "cell_type": "markdown",
   "id": "71c63310-9476-4d30-825f-f008c18c3e10",
   "metadata": {},
   "source": [
    "Here we implement a multi-threaded download to fetch and save all the available parcel data from the ORMAP database one chunk at a time."
   ]
  },
  {
   "cell_type": "code",
   "execution_count": null,
   "id": "bdfc92aa-29bb-4a3c-93f1-b71c1f074dc9",
   "metadata": {},
   "outputs": [],
   "source": [
    "steps = range(1,ids[-1]+1,1000)\n",
    "\n",
    "with tqdm(total=len(steps)) as pbar:\n",
    "    with ThreadPoolExecutor(12) as executor:\n",
    "        jobs = [executor.submit(fetch_save_parcels, step) for step in steps]\n",
    "        for job in as_completed(jobs):\n",
    "            pbar.update()"
   ]
  }
 ],
 "metadata": {
  "kernelspec": {
   "display_name": "Python [conda env:forest_mapping]",
   "language": "python",
   "name": "conda-env-forest_mapping-py"
  },
  "language_info": {
   "codemirror_mode": {
    "name": "ipython",
    "version": 3
   },
   "file_extension": ".py",
   "mimetype": "text/x-python",
   "name": "python",
   "nbconvert_exporter": "python",
   "pygments_lexer": "ipython3",
   "version": "3.9.10"
  }
 },
 "nbformat": 4,
 "nbformat_minor": 5
}
